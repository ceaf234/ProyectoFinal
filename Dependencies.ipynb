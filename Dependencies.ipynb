{
 "cells": [
  {
   "attachments": {},
   "cell_type": "markdown",
   "metadata": {},
   "source": [
    "## EC2 cdp-pf-transac-csv-proc\n",
    "### Conectando a la instancia\n",
    "- `chmod 400 KeyPairName1.pem`\n",
    "- `ssh -i \"KeyPairName1.pem\" ec2-user@ec2-18-219-54-48.us-east-2.compute.amazonaws.com`\n",
    "\n",
    "### Configurar como usuario raiz\n",
    "- `sudo su` \n",
    "\n",
    "### Actualizar paquetes instalados\n",
    "- `yum update`\n",
    "\n",
    "### Instalar Git\n",
    "- `yum install `\n",
    "\n",
    "### Instalar Python\n",
    "- `yum install python3`\n",
    "- `python3 --version`\n",
    "- `yum install python3-pip`\n",
    "- `pip3 --version`\n",
    "\n",
    "### Instalar blibliotecas de Python\n",
    "- `pip install pandas`\n",
    "- `pip install numpy`\n",
    "- `pip install boto3`\n",
    "\n",
    "### Clonar repositorio\n",
    "- `git clone https://github.com/ceaf234/ProyectoFinal.git`\n"
   ]
  }
 ],
 "metadata": {
  "kernelspec": {
   "display_name": "Testenv3",
   "language": "python",
   "name": "python3"
  },
  "language_info": {
   "codemirror_mode": {
    "name": "ipython",
    "version": 3
   },
   "file_extension": ".py",
   "mimetype": "text/x-python",
   "name": "python",
   "nbconvert_exporter": "python",
   "pygments_lexer": "ipython3",
   "version": "3.9.16"
  },
  "orig_nbformat": 4
 },
 "nbformat": 4,
 "nbformat_minor": 2
}
